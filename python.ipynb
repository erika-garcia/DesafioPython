{
    "cells": [
        {
            "metadata": {},
            "cell_type": "markdown",
            "source": "<b>DESAFIO PYTHON</b>"
        },
        {
            "metadata": {},
            "cell_type": "markdown",
            "source": "1 - Ler Json de entrada do object storage\nCriar 3 fun\u00e7\u00f5es diferentes que mostrem as entradas ordenadas por:\nData;\nNome;\nValor;\n\n2 - Dada uma entrada CSV do object storage\nCriar uma fun\u00e7\u00e3o mostre o conte\u00fado do CSV sem repeti\u00e7\u00f5es em ordem alfab\u00e9tica\n\n3 - Criar um programa que receba a entrada do usu\u00e1rio, pedindo a(s) resposta(s) para a fun\u00e7\u00e3o:\nx\u02c62 + 2*x - 20\nE envie a mensagem \u201cParab\u00e9ns\u201d caso o usu\u00e1rio tenha acertado, caso contr\u00e1rio envie \u201cEssa n\u00e3o \u00e9 bem a resposta correta, a resposta correta \u00e9: respostas\u201d"
        },
        {
            "metadata": {},
            "cell_type": "code",
            "source": "# importa as bibliotecas\nimport types\nimport pandas as pd\nfrom botocore.client import Config\nimport ibm_boto3\n\n#chamada do json\ndef __iter__(self): return 0\n\n# @hidden_cell\n# The following code accesses a file in your IBM Cloud Object Storage. It includes your credentials.\n# You might want to remove those credentials before you share the notebook.\n\n#credenciais\nclient_db745ac9370d4c78b205950a8c35575d = ibm_boto3.client(service_name='s3',\n    ibm_api_key_id='T5S8zyYd14NthAtSNtAhTHvqiO5o-FJy0Y4_TyPgtb7-',\n    ibm_auth_endpoint=\"https://iam.ng.bluemix.net/oidc/token\",\n    config=Config(signature_version='oauth'),\n    endpoint_url='https://s3-api.us-geo.objectstorage.service.networklayer.com')\n\nbody = client_db745ac9370d4c78b205950a8c35575d.get_object(Bucket='desafiopython-donotdelete-pr-atrvkqcqqumgog',Key='data.json')['Body']\n# add missing __iter__ method, so pandas accepts body as file-like object \n\nif not hasattr(body, \"__iter__\"): body.__iter__ = types.MethodType( __iter__, body )\n\n# Since JSON data can be semi-structured and contain additional metadata, it is possible that you might face an error during data loading.\n# Please read the documentation of 'pandas.read_json()' and 'pandas.io.json.json_normalize' to learn more about the possibilities to adjust the data loading.\n# pandas documentation: http://pandas.pydata.org/pandas-docs/stable/io.html#io-json-reader\n# and http://pandas.pydata.org/pandas-docs/stable/generated/pandas.io.json.json_normalize.html\n\n# df_data_1 = pd.read_json(body, orient='values')\n# df_data_1.head()\n",
            "execution_count": 1,
            "outputs": []
        },
        {
            "metadata": {
                "collapsed": true
            },
            "cell_type": "code",
            "source": "#cria\u00e7\u00e3o do dataframe e visualiza\u00e7\u00e3o dos primeiros\ndf = pd.read_json(body, orient='values')\ndf.head()",
            "execution_count": 8,
            "outputs": [
                {
                    "output_type": "execute_result",
                    "execution_count": 8,
                    "data": {
                        "text/plain": "        date    name  value\n0 2018-12-12  Kimble  93.28\n1 2019-03-08  Alanna  10.51\n2 2019-10-09     Jay  29.41\n3 2019-07-28  Rustin  47.94\n4 2019-03-23   Pedro  98.77",
                        "text/html": "<div>\n<style scoped>\n    .dataframe tbody tr th:only-of-type {\n        vertical-align: middle;\n    }\n\n    .dataframe tbody tr th {\n        vertical-align: top;\n    }\n\n    .dataframe thead th {\n        text-align: right;\n    }\n</style>\n<table border=\"1\" class=\"dataframe\">\n  <thead>\n    <tr style=\"text-align: right;\">\n      <th></th>\n      <th>date</th>\n      <th>name</th>\n      <th>value</th>\n    </tr>\n  </thead>\n  <tbody>\n    <tr>\n      <th>0</th>\n      <td>2018-12-12</td>\n      <td>Kimble</td>\n      <td>93.28</td>\n    </tr>\n    <tr>\n      <th>1</th>\n      <td>2019-03-08</td>\n      <td>Alanna</td>\n      <td>10.51</td>\n    </tr>\n    <tr>\n      <th>2</th>\n      <td>2019-10-09</td>\n      <td>Jay</td>\n      <td>29.41</td>\n    </tr>\n    <tr>\n      <th>3</th>\n      <td>2019-07-28</td>\n      <td>Rustin</td>\n      <td>47.94</td>\n    </tr>\n    <tr>\n      <th>4</th>\n      <td>2019-03-23</td>\n      <td>Pedro</td>\n      <td>98.77</td>\n    </tr>\n  </tbody>\n</table>\n</div>"
                    },
                    "metadata": {}
                }
            ]
        },
        {
            "metadata": {},
            "cell_type": "markdown",
            "source": "<b>EXERC\u00cdCIO 1 </b>- Ler Json de entrada do object storage\nCriar 3 fun\u00e7\u00f5es diferentes que mostrem as entradas ordenadas por:\n\nData"
        },
        {
            "metadata": {},
            "cell_type": "code",
            "source": "#cria\u00e7\u00e3o fun\u00e7\u00e3o de ordena\u00e7\u00e3o por data\ndef func_date(df):\n        return df.sort_values(['date'])",
            "execution_count": 6,
            "outputs": []
        },
        {
            "metadata": {
                "collapsed": true
            },
            "cell_type": "code",
            "source": "#chamada da fun\u00e7\u00e3o\nfunc_date(df)",
            "execution_count": 7,
            "outputs": [
                {
                    "output_type": "execute_result",
                    "execution_count": 7,
                    "data": {
                        "text/plain": "         date         name  value\n16 2018-11-23       Culver  68.38\n15 2018-11-24        Xenia  43.61\n0  2018-12-12       Kimble  93.28\n10 2019-01-13     Kristine  26.09\n24 2019-01-27   Christabel  73.09\n13 2019-02-03     Claudine  26.28\n8  2019-02-14        Graig  79.75\n1  2019-03-08       Alanna  10.51\n5  2019-03-21         Isac   5.21\n4  2019-03-23        Pedro  98.77\n14 2019-04-07      Honoria  93.40\n6  2019-04-10        Gayla  40.03\n20 2019-04-11      Jackson  53.92\n17 2019-05-14       Paddie  99.52\n23 2019-05-25         Jack  87.38\n22 2019-06-18     Christie  83.61\n3  2019-07-28       Rustin  47.94\n19 2019-08-02        Tadio   4.40\n18 2019-08-17         Livy  51.81\n12 2019-08-21         Teri  22.17\n2  2019-10-09          Jay  29.41\n11 2019-10-10      Brenden  41.40\n7  2019-10-16      Ransell  80.89\n21 2019-10-19        Elise  35.62\n9  2019-10-21  Jacquenetta  97.73",
                        "text/html": "<div>\n<style scoped>\n    .dataframe tbody tr th:only-of-type {\n        vertical-align: middle;\n    }\n\n    .dataframe tbody tr th {\n        vertical-align: top;\n    }\n\n    .dataframe thead th {\n        text-align: right;\n    }\n</style>\n<table border=\"1\" class=\"dataframe\">\n  <thead>\n    <tr style=\"text-align: right;\">\n      <th></th>\n      <th>date</th>\n      <th>name</th>\n      <th>value</th>\n    </tr>\n  </thead>\n  <tbody>\n    <tr>\n      <th>16</th>\n      <td>2018-11-23</td>\n      <td>Culver</td>\n      <td>68.38</td>\n    </tr>\n    <tr>\n      <th>15</th>\n      <td>2018-11-24</td>\n      <td>Xenia</td>\n      <td>43.61</td>\n    </tr>\n    <tr>\n      <th>0</th>\n      <td>2018-12-12</td>\n      <td>Kimble</td>\n      <td>93.28</td>\n    </tr>\n    <tr>\n      <th>10</th>\n      <td>2019-01-13</td>\n      <td>Kristine</td>\n      <td>26.09</td>\n    </tr>\n    <tr>\n      <th>24</th>\n      <td>2019-01-27</td>\n      <td>Christabel</td>\n      <td>73.09</td>\n    </tr>\n    <tr>\n      <th>13</th>\n      <td>2019-02-03</td>\n      <td>Claudine</td>\n      <td>26.28</td>\n    </tr>\n    <tr>\n      <th>8</th>\n      <td>2019-02-14</td>\n      <td>Graig</td>\n      <td>79.75</td>\n    </tr>\n    <tr>\n      <th>1</th>\n      <td>2019-03-08</td>\n      <td>Alanna</td>\n      <td>10.51</td>\n    </tr>\n    <tr>\n      <th>5</th>\n      <td>2019-03-21</td>\n      <td>Isac</td>\n      <td>5.21</td>\n    </tr>\n    <tr>\n      <th>4</th>\n      <td>2019-03-23</td>\n      <td>Pedro</td>\n      <td>98.77</td>\n    </tr>\n    <tr>\n      <th>14</th>\n      <td>2019-04-07</td>\n      <td>Honoria</td>\n      <td>93.40</td>\n    </tr>\n    <tr>\n      <th>6</th>\n      <td>2019-04-10</td>\n      <td>Gayla</td>\n      <td>40.03</td>\n    </tr>\n    <tr>\n      <th>20</th>\n      <td>2019-04-11</td>\n      <td>Jackson</td>\n      <td>53.92</td>\n    </tr>\n    <tr>\n      <th>17</th>\n      <td>2019-05-14</td>\n      <td>Paddie</td>\n      <td>99.52</td>\n    </tr>\n    <tr>\n      <th>23</th>\n      <td>2019-05-25</td>\n      <td>Jack</td>\n      <td>87.38</td>\n    </tr>\n    <tr>\n      <th>22</th>\n      <td>2019-06-18</td>\n      <td>Christie</td>\n      <td>83.61</td>\n    </tr>\n    <tr>\n      <th>3</th>\n      <td>2019-07-28</td>\n      <td>Rustin</td>\n      <td>47.94</td>\n    </tr>\n    <tr>\n      <th>19</th>\n      <td>2019-08-02</td>\n      <td>Tadio</td>\n      <td>4.40</td>\n    </tr>\n    <tr>\n      <th>18</th>\n      <td>2019-08-17</td>\n      <td>Livy</td>\n      <td>51.81</td>\n    </tr>\n    <tr>\n      <th>12</th>\n      <td>2019-08-21</td>\n      <td>Teri</td>\n      <td>22.17</td>\n    </tr>\n    <tr>\n      <th>2</th>\n      <td>2019-10-09</td>\n      <td>Jay</td>\n      <td>29.41</td>\n    </tr>\n    <tr>\n      <th>11</th>\n      <td>2019-10-10</td>\n      <td>Brenden</td>\n      <td>41.40</td>\n    </tr>\n    <tr>\n      <th>7</th>\n      <td>2019-10-16</td>\n      <td>Ransell</td>\n      <td>80.89</td>\n    </tr>\n    <tr>\n      <th>21</th>\n      <td>2019-10-19</td>\n      <td>Elise</td>\n      <td>35.62</td>\n    </tr>\n    <tr>\n      <th>9</th>\n      <td>2019-10-21</td>\n      <td>Jacquenetta</td>\n      <td>97.73</td>\n    </tr>\n  </tbody>\n</table>\n</div>"
                    },
                    "metadata": {}
                }
            ]
        },
        {
            "metadata": {},
            "cell_type": "markdown",
            "source": "Nome;"
        },
        {
            "metadata": {},
            "cell_type": "code",
            "source": "#cria\u00e7\u00e3o fun\u00e7\u00e3o de orden\u00e7\u00e3o por nome\ndef func_name(df):\n        return df.sort_values(['name'])",
            "execution_count": 11,
            "outputs": []
        },
        {
            "metadata": {
                "collapsed": true
            },
            "cell_type": "code",
            "source": "#chamada da fun\u00e7\u00e3o\nfunc_name(df)",
            "execution_count": 12,
            "outputs": [
                {
                    "output_type": "execute_result",
                    "execution_count": 12,
                    "data": {
                        "text/plain": "         date         name  value\n1  2019-03-08       Alanna  10.51\n11 2019-10-10      Brenden  41.40\n24 2019-01-27   Christabel  73.09\n22 2019-06-18     Christie  83.61\n13 2019-02-03     Claudine  26.28\n16 2018-11-23       Culver  68.38\n21 2019-10-19        Elise  35.62\n6  2019-04-10        Gayla  40.03\n8  2019-02-14        Graig  79.75\n14 2019-04-07      Honoria  93.40\n5  2019-03-21         Isac   5.21\n23 2019-05-25         Jack  87.38\n20 2019-04-11      Jackson  53.92\n9  2019-10-21  Jacquenetta  97.73\n2  2019-10-09          Jay  29.41\n0  2018-12-12       Kimble  93.28\n10 2019-01-13     Kristine  26.09\n18 2019-08-17         Livy  51.81\n17 2019-05-14       Paddie  99.52\n4  2019-03-23        Pedro  98.77\n7  2019-10-16      Ransell  80.89\n3  2019-07-28       Rustin  47.94\n19 2019-08-02        Tadio   4.40\n12 2019-08-21         Teri  22.17\n15 2018-11-24        Xenia  43.61",
                        "text/html": "<div>\n<style scoped>\n    .dataframe tbody tr th:only-of-type {\n        vertical-align: middle;\n    }\n\n    .dataframe tbody tr th {\n        vertical-align: top;\n    }\n\n    .dataframe thead th {\n        text-align: right;\n    }\n</style>\n<table border=\"1\" class=\"dataframe\">\n  <thead>\n    <tr style=\"text-align: right;\">\n      <th></th>\n      <th>date</th>\n      <th>name</th>\n      <th>value</th>\n    </tr>\n  </thead>\n  <tbody>\n    <tr>\n      <th>1</th>\n      <td>2019-03-08</td>\n      <td>Alanna</td>\n      <td>10.51</td>\n    </tr>\n    <tr>\n      <th>11</th>\n      <td>2019-10-10</td>\n      <td>Brenden</td>\n      <td>41.40</td>\n    </tr>\n    <tr>\n      <th>24</th>\n      <td>2019-01-27</td>\n      <td>Christabel</td>\n      <td>73.09</td>\n    </tr>\n    <tr>\n      <th>22</th>\n      <td>2019-06-18</td>\n      <td>Christie</td>\n      <td>83.61</td>\n    </tr>\n    <tr>\n      <th>13</th>\n      <td>2019-02-03</td>\n      <td>Claudine</td>\n      <td>26.28</td>\n    </tr>\n    <tr>\n      <th>16</th>\n      <td>2018-11-23</td>\n      <td>Culver</td>\n      <td>68.38</td>\n    </tr>\n    <tr>\n      <th>21</th>\n      <td>2019-10-19</td>\n      <td>Elise</td>\n      <td>35.62</td>\n    </tr>\n    <tr>\n      <th>6</th>\n      <td>2019-04-10</td>\n      <td>Gayla</td>\n      <td>40.03</td>\n    </tr>\n    <tr>\n      <th>8</th>\n      <td>2019-02-14</td>\n      <td>Graig</td>\n      <td>79.75</td>\n    </tr>\n    <tr>\n      <th>14</th>\n      <td>2019-04-07</td>\n      <td>Honoria</td>\n      <td>93.40</td>\n    </tr>\n    <tr>\n      <th>5</th>\n      <td>2019-03-21</td>\n      <td>Isac</td>\n      <td>5.21</td>\n    </tr>\n    <tr>\n      <th>23</th>\n      <td>2019-05-25</td>\n      <td>Jack</td>\n      <td>87.38</td>\n    </tr>\n    <tr>\n      <th>20</th>\n      <td>2019-04-11</td>\n      <td>Jackson</td>\n      <td>53.92</td>\n    </tr>\n    <tr>\n      <th>9</th>\n      <td>2019-10-21</td>\n      <td>Jacquenetta</td>\n      <td>97.73</td>\n    </tr>\n    <tr>\n      <th>2</th>\n      <td>2019-10-09</td>\n      <td>Jay</td>\n      <td>29.41</td>\n    </tr>\n    <tr>\n      <th>0</th>\n      <td>2018-12-12</td>\n      <td>Kimble</td>\n      <td>93.28</td>\n    </tr>\n    <tr>\n      <th>10</th>\n      <td>2019-01-13</td>\n      <td>Kristine</td>\n      <td>26.09</td>\n    </tr>\n    <tr>\n      <th>18</th>\n      <td>2019-08-17</td>\n      <td>Livy</td>\n      <td>51.81</td>\n    </tr>\n    <tr>\n      <th>17</th>\n      <td>2019-05-14</td>\n      <td>Paddie</td>\n      <td>99.52</td>\n    </tr>\n    <tr>\n      <th>4</th>\n      <td>2019-03-23</td>\n      <td>Pedro</td>\n      <td>98.77</td>\n    </tr>\n    <tr>\n      <th>7</th>\n      <td>2019-10-16</td>\n      <td>Ransell</td>\n      <td>80.89</td>\n    </tr>\n    <tr>\n      <th>3</th>\n      <td>2019-07-28</td>\n      <td>Rustin</td>\n      <td>47.94</td>\n    </tr>\n    <tr>\n      <th>19</th>\n      <td>2019-08-02</td>\n      <td>Tadio</td>\n      <td>4.40</td>\n    </tr>\n    <tr>\n      <th>12</th>\n      <td>2019-08-21</td>\n      <td>Teri</td>\n      <td>22.17</td>\n    </tr>\n    <tr>\n      <th>15</th>\n      <td>2018-11-24</td>\n      <td>Xenia</td>\n      <td>43.61</td>\n    </tr>\n  </tbody>\n</table>\n</div>"
                    },
                    "metadata": {}
                }
            ]
        },
        {
            "metadata": {},
            "cell_type": "markdown",
            "source": "Valor;"
        },
        {
            "metadata": {},
            "cell_type": "code",
            "source": "#cria\u00e7\u00e3o fun\u00e7\u00e3o ordena\u00e7\u00e3o por valor\ndef func_value(df):\n        return df.sort_values(['value'])",
            "execution_count": 13,
            "outputs": []
        },
        {
            "metadata": {
                "collapsed": true
            },
            "cell_type": "code",
            "source": "#chamada da fun\u00e7\u00e3o\nfunc_value(df)",
            "execution_count": 14,
            "outputs": [
                {
                    "output_type": "execute_result",
                    "execution_count": 14,
                    "data": {
                        "text/plain": "         date         name  value\n19 2019-08-02        Tadio   4.40\n5  2019-03-21         Isac   5.21\n1  2019-03-08       Alanna  10.51\n12 2019-08-21         Teri  22.17\n10 2019-01-13     Kristine  26.09\n13 2019-02-03     Claudine  26.28\n2  2019-10-09          Jay  29.41\n21 2019-10-19        Elise  35.62\n6  2019-04-10        Gayla  40.03\n11 2019-10-10      Brenden  41.40\n15 2018-11-24        Xenia  43.61\n3  2019-07-28       Rustin  47.94\n18 2019-08-17         Livy  51.81\n20 2019-04-11      Jackson  53.92\n16 2018-11-23       Culver  68.38\n24 2019-01-27   Christabel  73.09\n8  2019-02-14        Graig  79.75\n7  2019-10-16      Ransell  80.89\n22 2019-06-18     Christie  83.61\n23 2019-05-25         Jack  87.38\n0  2018-12-12       Kimble  93.28\n14 2019-04-07      Honoria  93.40\n9  2019-10-21  Jacquenetta  97.73\n4  2019-03-23        Pedro  98.77\n17 2019-05-14       Paddie  99.52",
                        "text/html": "<div>\n<style scoped>\n    .dataframe tbody tr th:only-of-type {\n        vertical-align: middle;\n    }\n\n    .dataframe tbody tr th {\n        vertical-align: top;\n    }\n\n    .dataframe thead th {\n        text-align: right;\n    }\n</style>\n<table border=\"1\" class=\"dataframe\">\n  <thead>\n    <tr style=\"text-align: right;\">\n      <th></th>\n      <th>date</th>\n      <th>name</th>\n      <th>value</th>\n    </tr>\n  </thead>\n  <tbody>\n    <tr>\n      <th>19</th>\n      <td>2019-08-02</td>\n      <td>Tadio</td>\n      <td>4.40</td>\n    </tr>\n    <tr>\n      <th>5</th>\n      <td>2019-03-21</td>\n      <td>Isac</td>\n      <td>5.21</td>\n    </tr>\n    <tr>\n      <th>1</th>\n      <td>2019-03-08</td>\n      <td>Alanna</td>\n      <td>10.51</td>\n    </tr>\n    <tr>\n      <th>12</th>\n      <td>2019-08-21</td>\n      <td>Teri</td>\n      <td>22.17</td>\n    </tr>\n    <tr>\n      <th>10</th>\n      <td>2019-01-13</td>\n      <td>Kristine</td>\n      <td>26.09</td>\n    </tr>\n    <tr>\n      <th>13</th>\n      <td>2019-02-03</td>\n      <td>Claudine</td>\n      <td>26.28</td>\n    </tr>\n    <tr>\n      <th>2</th>\n      <td>2019-10-09</td>\n      <td>Jay</td>\n      <td>29.41</td>\n    </tr>\n    <tr>\n      <th>21</th>\n      <td>2019-10-19</td>\n      <td>Elise</td>\n      <td>35.62</td>\n    </tr>\n    <tr>\n      <th>6</th>\n      <td>2019-04-10</td>\n      <td>Gayla</td>\n      <td>40.03</td>\n    </tr>\n    <tr>\n      <th>11</th>\n      <td>2019-10-10</td>\n      <td>Brenden</td>\n      <td>41.40</td>\n    </tr>\n    <tr>\n      <th>15</th>\n      <td>2018-11-24</td>\n      <td>Xenia</td>\n      <td>43.61</td>\n    </tr>\n    <tr>\n      <th>3</th>\n      <td>2019-07-28</td>\n      <td>Rustin</td>\n      <td>47.94</td>\n    </tr>\n    <tr>\n      <th>18</th>\n      <td>2019-08-17</td>\n      <td>Livy</td>\n      <td>51.81</td>\n    </tr>\n    <tr>\n      <th>20</th>\n      <td>2019-04-11</td>\n      <td>Jackson</td>\n      <td>53.92</td>\n    </tr>\n    <tr>\n      <th>16</th>\n      <td>2018-11-23</td>\n      <td>Culver</td>\n      <td>68.38</td>\n    </tr>\n    <tr>\n      <th>24</th>\n      <td>2019-01-27</td>\n      <td>Christabel</td>\n      <td>73.09</td>\n    </tr>\n    <tr>\n      <th>8</th>\n      <td>2019-02-14</td>\n      <td>Graig</td>\n      <td>79.75</td>\n    </tr>\n    <tr>\n      <th>7</th>\n      <td>2019-10-16</td>\n      <td>Ransell</td>\n      <td>80.89</td>\n    </tr>\n    <tr>\n      <th>22</th>\n      <td>2019-06-18</td>\n      <td>Christie</td>\n      <td>83.61</td>\n    </tr>\n    <tr>\n      <th>23</th>\n      <td>2019-05-25</td>\n      <td>Jack</td>\n      <td>87.38</td>\n    </tr>\n    <tr>\n      <th>0</th>\n      <td>2018-12-12</td>\n      <td>Kimble</td>\n      <td>93.28</td>\n    </tr>\n    <tr>\n      <th>14</th>\n      <td>2019-04-07</td>\n      <td>Honoria</td>\n      <td>93.40</td>\n    </tr>\n    <tr>\n      <th>9</th>\n      <td>2019-10-21</td>\n      <td>Jacquenetta</td>\n      <td>97.73</td>\n    </tr>\n    <tr>\n      <th>4</th>\n      <td>2019-03-23</td>\n      <td>Pedro</td>\n      <td>98.77</td>\n    </tr>\n    <tr>\n      <th>17</th>\n      <td>2019-05-14</td>\n      <td>Paddie</td>\n      <td>99.52</td>\n    </tr>\n  </tbody>\n</table>\n</div>"
                    },
                    "metadata": {}
                }
            ]
        },
        {
            "metadata": {},
            "cell_type": "markdown",
            "source": "<b>EXERC\u00cdCIO 2 </b>- Dada uma entrada CSV do object storage\nCriar uma fun\u00e7\u00e3o mostre o conte\u00fado do CSV sem repeti\u00e7\u00f5es em ordem alfab\u00e9tica\nPython Local"
        },
        {
            "metadata": {
                "scrolled": true
            },
            "cell_type": "code",
            "source": "body = client_db745ac9370d4c78b205950a8c35575d.get_object(Bucket='desafiopython-donotdelete-pr-atrvkqcqqumgog',Key='data.csv')['Body']\n# add missing __iter__ method, so pandas accepts body as file-like object\nif not hasattr(body, \"__iter__\"): body.__iter__ = types.MethodType( __iter__, body )\n\n#cria\u00e7\u00e3o dataframe e visualiza\u00e7\u00e3o dos primeiros\ndf_2 = pd.read_csv(body)\ndf_2.head()\n",
            "execution_count": 15,
            "outputs": [
                {
                    "output_type": "execute_result",
                    "execution_count": 15,
                    "data": {
                        "text/plain": "       name\n0       Rog\n1  Robinett\n2    Stacee\n3    Rutter\n4     Candi",
                        "text/html": "<div>\n<style scoped>\n    .dataframe tbody tr th:only-of-type {\n        vertical-align: middle;\n    }\n\n    .dataframe tbody tr th {\n        vertical-align: top;\n    }\n\n    .dataframe thead th {\n        text-align: right;\n    }\n</style>\n<table border=\"1\" class=\"dataframe\">\n  <thead>\n    <tr style=\"text-align: right;\">\n      <th></th>\n      <th>name</th>\n    </tr>\n  </thead>\n  <tbody>\n    <tr>\n      <th>0</th>\n      <td>Rog</td>\n    </tr>\n    <tr>\n      <th>1</th>\n      <td>Robinett</td>\n    </tr>\n    <tr>\n      <th>2</th>\n      <td>Stacee</td>\n    </tr>\n    <tr>\n      <th>3</th>\n      <td>Rutter</td>\n    </tr>\n    <tr>\n      <th>4</th>\n      <td>Candi</td>\n    </tr>\n  </tbody>\n</table>\n</div>"
                    },
                    "metadata": {}
                }
            ]
        },
        {
            "metadata": {},
            "cell_type": "code",
            "source": "#fun\u00e7\u00e3o para retirar repeti\u00e7\u00f5es e ordenar por nome\ndef func_rep(df_2):\n    df_2.drop_duplicates(subset=None, keep='first', inplace=False)\n    return df_2.sort_values(['name'])",
            "execution_count": 16,
            "outputs": []
        },
        {
            "metadata": {
                "collapsed": true
            },
            "cell_type": "code",
            "source": "#chamada da fun\u00e7\u00e3o\nfunc_rep(df_2)",
            "execution_count": 17,
            "outputs": [
                {
                    "output_type": "execute_result",
                    "execution_count": 17,
                    "data": {
                        "text/plain": "           name\n73     Adrianne\n74        Alene\n46   Alessandro\n20       Alfons\n99      Anthony\n75        Armin\n51      Artemis\n41        Berne\n90        Bunni\n35         Calv\n4         Candi\n92       Carlyn\n67       Caspar\n79     Christie\n80       Cindie\n29     Clarence\n12     Clarisse\n85         Codi\n60  Constantino\n84   Cristionna\n97        Daffi\n21        Daune\n13        Druci\n22    Ellswerth\n34        Elora\n62    Fanchette\n89        Fanya\n5        Farica\n59        Gaile\n6       Garrard\n..          ...\n82        Perle\n57   Philippine\n23       Portia\n14      Rafaela\n33    Reginauld\n11        Reine\n72      Reinold\n47        Retha\n30      Riobard\n1      Robinett\n0           Rog\n58      Rozelle\n3        Rutter\n53       Shandy\n25        Slade\n49       Sorcha\n2        Stacee\n76       Steven\n61         Sven\n40       Tandie\n71       Tanney\n48        Tasha\n18      Theresa\n7         Venus\n26        Verne\n28        Vevay\n52      Whitney\n86      William\n15        Wolfy\n87        Zarah\n\n[100 rows x 1 columns]",
                        "text/html": "<div>\n<style scoped>\n    .dataframe tbody tr th:only-of-type {\n        vertical-align: middle;\n    }\n\n    .dataframe tbody tr th {\n        vertical-align: top;\n    }\n\n    .dataframe thead th {\n        text-align: right;\n    }\n</style>\n<table border=\"1\" class=\"dataframe\">\n  <thead>\n    <tr style=\"text-align: right;\">\n      <th></th>\n      <th>name</th>\n    </tr>\n  </thead>\n  <tbody>\n    <tr>\n      <th>73</th>\n      <td>Adrianne</td>\n    </tr>\n    <tr>\n      <th>74</th>\n      <td>Alene</td>\n    </tr>\n    <tr>\n      <th>46</th>\n      <td>Alessandro</td>\n    </tr>\n    <tr>\n      <th>20</th>\n      <td>Alfons</td>\n    </tr>\n    <tr>\n      <th>99</th>\n      <td>Anthony</td>\n    </tr>\n    <tr>\n      <th>75</th>\n      <td>Armin</td>\n    </tr>\n    <tr>\n      <th>51</th>\n      <td>Artemis</td>\n    </tr>\n    <tr>\n      <th>41</th>\n      <td>Berne</td>\n    </tr>\n    <tr>\n      <th>90</th>\n      <td>Bunni</td>\n    </tr>\n    <tr>\n      <th>35</th>\n      <td>Calv</td>\n    </tr>\n    <tr>\n      <th>4</th>\n      <td>Candi</td>\n    </tr>\n    <tr>\n      <th>92</th>\n      <td>Carlyn</td>\n    </tr>\n    <tr>\n      <th>67</th>\n      <td>Caspar</td>\n    </tr>\n    <tr>\n      <th>79</th>\n      <td>Christie</td>\n    </tr>\n    <tr>\n      <th>80</th>\n      <td>Cindie</td>\n    </tr>\n    <tr>\n      <th>29</th>\n      <td>Clarence</td>\n    </tr>\n    <tr>\n      <th>12</th>\n      <td>Clarisse</td>\n    </tr>\n    <tr>\n      <th>85</th>\n      <td>Codi</td>\n    </tr>\n    <tr>\n      <th>60</th>\n      <td>Constantino</td>\n    </tr>\n    <tr>\n      <th>84</th>\n      <td>Cristionna</td>\n    </tr>\n    <tr>\n      <th>97</th>\n      <td>Daffi</td>\n    </tr>\n    <tr>\n      <th>21</th>\n      <td>Daune</td>\n    </tr>\n    <tr>\n      <th>13</th>\n      <td>Druci</td>\n    </tr>\n    <tr>\n      <th>22</th>\n      <td>Ellswerth</td>\n    </tr>\n    <tr>\n      <th>34</th>\n      <td>Elora</td>\n    </tr>\n    <tr>\n      <th>62</th>\n      <td>Fanchette</td>\n    </tr>\n    <tr>\n      <th>89</th>\n      <td>Fanya</td>\n    </tr>\n    <tr>\n      <th>5</th>\n      <td>Farica</td>\n    </tr>\n    <tr>\n      <th>59</th>\n      <td>Gaile</td>\n    </tr>\n    <tr>\n      <th>6</th>\n      <td>Garrard</td>\n    </tr>\n    <tr>\n      <th>...</th>\n      <td>...</td>\n    </tr>\n    <tr>\n      <th>82</th>\n      <td>Perle</td>\n    </tr>\n    <tr>\n      <th>57</th>\n      <td>Philippine</td>\n    </tr>\n    <tr>\n      <th>23</th>\n      <td>Portia</td>\n    </tr>\n    <tr>\n      <th>14</th>\n      <td>Rafaela</td>\n    </tr>\n    <tr>\n      <th>33</th>\n      <td>Reginauld</td>\n    </tr>\n    <tr>\n      <th>11</th>\n      <td>Reine</td>\n    </tr>\n    <tr>\n      <th>72</th>\n      <td>Reinold</td>\n    </tr>\n    <tr>\n      <th>47</th>\n      <td>Retha</td>\n    </tr>\n    <tr>\n      <th>30</th>\n      <td>Riobard</td>\n    </tr>\n    <tr>\n      <th>1</th>\n      <td>Robinett</td>\n    </tr>\n    <tr>\n      <th>0</th>\n      <td>Rog</td>\n    </tr>\n    <tr>\n      <th>58</th>\n      <td>Rozelle</td>\n    </tr>\n    <tr>\n      <th>3</th>\n      <td>Rutter</td>\n    </tr>\n    <tr>\n      <th>53</th>\n      <td>Shandy</td>\n    </tr>\n    <tr>\n      <th>25</th>\n      <td>Slade</td>\n    </tr>\n    <tr>\n      <th>49</th>\n      <td>Sorcha</td>\n    </tr>\n    <tr>\n      <th>2</th>\n      <td>Stacee</td>\n    </tr>\n    <tr>\n      <th>76</th>\n      <td>Steven</td>\n    </tr>\n    <tr>\n      <th>61</th>\n      <td>Sven</td>\n    </tr>\n    <tr>\n      <th>40</th>\n      <td>Tandie</td>\n    </tr>\n    <tr>\n      <th>71</th>\n      <td>Tanney</td>\n    </tr>\n    <tr>\n      <th>48</th>\n      <td>Tasha</td>\n    </tr>\n    <tr>\n      <th>18</th>\n      <td>Theresa</td>\n    </tr>\n    <tr>\n      <th>7</th>\n      <td>Venus</td>\n    </tr>\n    <tr>\n      <th>26</th>\n      <td>Verne</td>\n    </tr>\n    <tr>\n      <th>28</th>\n      <td>Vevay</td>\n    </tr>\n    <tr>\n      <th>52</th>\n      <td>Whitney</td>\n    </tr>\n    <tr>\n      <th>86</th>\n      <td>William</td>\n    </tr>\n    <tr>\n      <th>15</th>\n      <td>Wolfy</td>\n    </tr>\n    <tr>\n      <th>87</th>\n      <td>Zarah</td>\n    </tr>\n  </tbody>\n</table>\n<p>100 rows \u00d7 1 columns</p>\n</div>"
                    },
                    "metadata": {}
                }
            ]
        },
        {
            "metadata": {},
            "cell_type": "code",
            "source": "print(\"Considerando a fun\u00e7\u00e3o de segundo grau: x\u02c62 + 2*x - 20 = 0\")\n#solicita entrada das duas raizes.\nr1 = input(\"Digite o valor da primeira raiz:\")\nr2 = input(\"Digite o valor da segunda raiz:\")\n#definidas as variaveis da fun\u00e7\u00e3o\na = 1\nb = 2\nc = -20\n#calculo do delta\ndelta = b**2-4*a*c\n#calculo das duas raizes\nraiz1 = (-b+(delta**(1/2)))/2*a\nraiz1 = round(raiz1, 2)\nraiz2 = (-b-(delta**(1/2)))/2*a\nraiz2 = round(raiz2, 2)\n#se ambas as raizes forem iguais as respostas ent\u00e3o est\u00e1 correto\nif (float(r1) == raiz1 or float(r1) == raiz2) and (float(r2) == raiz1 or float(r1) == raiz2):\n    print(\"Correto\")\nelse:\n    print(\"Errado! As raizes da fun\u00e7\u00e3o s\u00e3o \" + str(raiz1) + \" e \" + str(raiz2))",
            "execution_count": null,
            "outputs": []
        },
        {
            "metadata": {},
            "cell_type": "code",
            "source": "",
            "execution_count": null,
            "outputs": []
        }
    ],
    "metadata": {
        "kernelspec": {
            "name": "python3",
            "display_name": "Python 3.6",
            "language": "python"
        },
        "language_info": {
            "name": "python",
            "version": "3.6.8",
            "mimetype": "text/x-python",
            "codemirror_mode": {
                "name": "ipython",
                "version": 3
            },
            "pygments_lexer": "ipython3",
            "nbconvert_exporter": "python",
            "file_extension": ".py"
        }
    },
    "nbformat": 4,
    "nbformat_minor": 1
}